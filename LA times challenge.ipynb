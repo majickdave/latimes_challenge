{
 "cells": [
  {
   "cell_type": "markdown",
   "metadata": {},
   "source": [
    "# LA Times\n",
    "\n",
    "develop a model to predict post performance for new posts a user may want to create for this account."
   ]
  },
  {
   "cell_type": "code",
   "execution_count": 1,
   "metadata": {},
   "outputs": [],
   "source": [
    "%matplotlib inline\n",
    "import matplotlib.pyplot as plt\n",
    "import seaborn as sns\n",
    "import json\n",
    "import pandas as pd\n",
    "import numpy as np\n",
    "import zipfile\n",
    "from pandas.io.json import json_normalize\n",
    "\n",
    "from sklearn.feature_extraction.text import CountVectorizer\n",
    "from sklearn.linear_model import LinearRegression\n",
    "from sklearn.model_selection import train_test_split\n",
    "from sklearn.ensemble import RandomForestRegressor\n",
    "from sklearn.model_selection import cross_val_score\n",
    "from sklearn.metrics import mean_absolute_error\n",
    "from sklearn.ensemble import AdaBoostRegressor\n",
    "\n",
    "from textblob import TextBlob\n",
    "from textblob.sentiments import NaiveBayesAnalyzer, BaseSentimentAnalyzer"
   ]
  },
  {
   "cell_type": "code",
   "execution_count": 2,
   "metadata": {},
   "outputs": [
    {
     "name": "stdout",
     "output_type": "stream",
     "text": [
      "CPU times: user 4.81 s, sys: 302 ms, total: 5.11 s\n",
      "Wall time: 5.12 s\n"
     ]
    }
   ],
   "source": [
    "%%time\n",
    "\n",
    "with zipfile.ZipFile('posts.json.zip') as myzip:\n",
    "    with myzip.open('posts.json') as f:\n",
    "        lines = f.readlines()\n",
    "        data = [json.loads(line) for line in lines]"
   ]
  },
  {
   "cell_type": "code",
   "execution_count": 3,
   "metadata": {},
   "outputs": [
    {
     "data": {
      "text/html": [
       "<div>\n",
       "<style scoped>\n",
       "    .dataframe tbody tr th:only-of-type {\n",
       "        vertical-align: middle;\n",
       "    }\n",
       "\n",
       "    .dataframe tbody tr th {\n",
       "        vertical-align: top;\n",
       "    }\n",
       "\n",
       "    .dataframe thead th {\n",
       "        text-align: right;\n",
       "    }\n",
       "</style>\n",
       "<table border=\"1\" class=\"dataframe\">\n",
       "  <thead>\n",
       "    <tr style=\"text-align: right;\">\n",
       "      <th></th>\n",
       "      <th>caption</th>\n",
       "      <th>created_time</th>\n",
       "      <th>description</th>\n",
       "      <th>feed_targeting.reach_estimate</th>\n",
       "      <th>id</th>\n",
       "      <th>insights.post_consumptions.description</th>\n",
       "      <th>insights.post_consumptions.id</th>\n",
       "      <th>insights.post_consumptions.name</th>\n",
       "      <th>insights.post_consumptions.period</th>\n",
       "      <th>insights.post_consumptions.title</th>\n",
       "      <th>...</th>\n",
       "      <th>insights.post_video_views_unique.name</th>\n",
       "      <th>insights.post_video_views_unique.period</th>\n",
       "      <th>insights.post_video_views_unique.title</th>\n",
       "      <th>insights.post_video_views_unique.values</th>\n",
       "      <th>link</th>\n",
       "      <th>link_to_post</th>\n",
       "      <th>message</th>\n",
       "      <th>name</th>\n",
       "      <th>picture</th>\n",
       "      <th>story</th>\n",
       "    </tr>\n",
       "  </thead>\n",
       "  <tbody>\n",
       "    <tr>\n",
       "      <th>0</th>\n",
       "      <td>komonews.com</td>\n",
       "      <td>2015-09-17T20:50:00+0000</td>\n",
       "      <td>About 20 western Virginia high school students...</td>\n",
       "      <td>NaN</td>\n",
       "      <td>114431401958534_940695755998757</td>\n",
       "      <td>Lifetime: The number of clicks anywhere in you...</td>\n",
       "      <td>114431401958534_940695755998757/insights/post_...</td>\n",
       "      <td>post_consumptions</td>\n",
       "      <td>lifetime</td>\n",
       "      <td>Lifetime Post Consumptions</td>\n",
       "      <td>...</td>\n",
       "      <td>post_video_views_unique</td>\n",
       "      <td>lifetime</td>\n",
       "      <td>Lifetime Unique Video Views</td>\n",
       "      <td>[{'value': 0}]</td>\n",
       "      <td>http://www.komonews.com/news/national/Students...</td>\n",
       "      <td>http://facebook.com/114431401958534_9406957559...</td>\n",
       "      <td>Do you think the Confederate flag should be ba...</td>\n",
       "      <td>Students suspended for clothing displaying Con...</td>\n",
       "      <td>https://external.xx.fbcdn.net/safe_image.php?d...</td>\n",
       "      <td>NaN</td>\n",
       "    </tr>\n",
       "    <tr>\n",
       "      <th>1</th>\n",
       "      <td>NaN</td>\n",
       "      <td>2015-09-17T20:20:01+0000</td>\n",
       "      <td>NaN</td>\n",
       "      <td>NaN</td>\n",
       "      <td>114431401958534_940684872666512</td>\n",
       "      <td>Lifetime: The number of clicks anywhere in you...</td>\n",
       "      <td>114431401958534_940684872666512/insights/post_...</td>\n",
       "      <td>post_consumptions</td>\n",
       "      <td>lifetime</td>\n",
       "      <td>Lifetime Post Consumptions</td>\n",
       "      <td>...</td>\n",
       "      <td>NaN</td>\n",
       "      <td>NaN</td>\n",
       "      <td>NaN</td>\n",
       "      <td>NaN</td>\n",
       "      <td>https://www.facebook.com/KOMONews/photos/a.121...</td>\n",
       "      <td>http://facebook.com/114431401958534_9406848726...</td>\n",
       "      <td>Seattle Seahawks' Russell Wilson answered lots...</td>\n",
       "      <td>Timeline Photos</td>\n",
       "      <td>https://fbcdn-photos-b-a.akamaihd.net/hphotos-...</td>\n",
       "      <td>NaN</td>\n",
       "    </tr>\n",
       "    <tr>\n",
       "      <th>2</th>\n",
       "      <td>komonews.com</td>\n",
       "      <td>2015-09-17T19:49:28+0000</td>\n",
       "      <td>Despite September looking like it will break o...</td>\n",
       "      <td>NaN</td>\n",
       "      <td>114431401958534_940684229333243</td>\n",
       "      <td>Lifetime: The number of clicks anywhere in you...</td>\n",
       "      <td>114431401958534_940684229333243/insights/post_...</td>\n",
       "      <td>post_consumptions</td>\n",
       "      <td>lifetime</td>\n",
       "      <td>Lifetime Post Consumptions</td>\n",
       "      <td>...</td>\n",
       "      <td>post_video_views_unique</td>\n",
       "      <td>lifetime</td>\n",
       "      <td>Lifetime Unique Video Views</td>\n",
       "      <td>[{'value': 0}]</td>\n",
       "      <td>http://www.komonews.com/weather/blogs/scott/Ne...</td>\n",
       "      <td>http://facebook.com/114431401958534_9406842293...</td>\n",
       "      <td>It'll be a bummer for snow lovers, but warm-we...</td>\n",
       "      <td>New forecasts still say mild winter, hot summe...</td>\n",
       "      <td>https://external.xx.fbcdn.net/safe_image.php?d...</td>\n",
       "      <td>NaN</td>\n",
       "    </tr>\n",
       "    <tr>\n",
       "      <th>3</th>\n",
       "      <td>komonews.com</td>\n",
       "      <td>2015-09-17T19:18:00+0000</td>\n",
       "      <td>Amazon is dangling a $50 tablet computer in it...</td>\n",
       "      <td>NaN</td>\n",
       "      <td>114431401958534_940637569337909</td>\n",
       "      <td>Lifetime: The number of clicks anywhere in you...</td>\n",
       "      <td>114431401958534_940637569337909/insights/post_...</td>\n",
       "      <td>post_consumptions</td>\n",
       "      <td>lifetime</td>\n",
       "      <td>Lifetime Post Consumptions</td>\n",
       "      <td>...</td>\n",
       "      <td>post_video_views_unique</td>\n",
       "      <td>lifetime</td>\n",
       "      <td>Lifetime Unique Video Views</td>\n",
       "      <td>[{'value': 0}]</td>\n",
       "      <td>http://www.komonews.com/news/tech/Amazon-dangl...</td>\n",
       "      <td>http://facebook.com/114431401958534_9406375693...</td>\n",
       "      <td>What do you think of Amazon's cheaper tablet?</td>\n",
       "      <td>Amazon dangles $50 tablet computer to hook mor...</td>\n",
       "      <td>https://fbexternal-a.akamaihd.net/safe_image.p...</td>\n",
       "      <td>NaN</td>\n",
       "    </tr>\n",
       "    <tr>\n",
       "      <th>4</th>\n",
       "      <td>komonews.com</td>\n",
       "      <td>2015-09-17T18:45:00+0000</td>\n",
       "      <td>Earth's record-breaking heat is sounding an aw...</td>\n",
       "      <td>NaN</td>\n",
       "      <td>114431401958534_940535546014778</td>\n",
       "      <td>Lifetime: The number of clicks anywhere in you...</td>\n",
       "      <td>114431401958534_940535546014778/insights/post_...</td>\n",
       "      <td>post_consumptions</td>\n",
       "      <td>lifetime</td>\n",
       "      <td>Lifetime Post Consumptions</td>\n",
       "      <td>...</td>\n",
       "      <td>post_video_views_unique</td>\n",
       "      <td>lifetime</td>\n",
       "      <td>Lifetime Unique Video Views</td>\n",
       "      <td>[{'value': 0}]</td>\n",
       "      <td>http://www.komonews.com/news/national/Earths-r...</td>\n",
       "      <td>http://facebook.com/114431401958534_9405355460...</td>\n",
       "      <td>Meteorologists say 2015 is a near certainty to...</td>\n",
       "      <td>Earth's record streak of record heat keeps on ...</td>\n",
       "      <td>https://external.xx.fbcdn.net/safe_image.php?d...</td>\n",
       "      <td>NaN</td>\n",
       "    </tr>\n",
       "  </tbody>\n",
       "</table>\n",
       "<p>5 rows × 359 columns</p>\n",
       "</div>"
      ],
      "text/plain": [
       "        caption              created_time  \\\n",
       "0  komonews.com  2015-09-17T20:50:00+0000   \n",
       "1           NaN  2015-09-17T20:20:01+0000   \n",
       "2  komonews.com  2015-09-17T19:49:28+0000   \n",
       "3  komonews.com  2015-09-17T19:18:00+0000   \n",
       "4  komonews.com  2015-09-17T18:45:00+0000   \n",
       "\n",
       "                                         description  \\\n",
       "0  About 20 western Virginia high school students...   \n",
       "1                                                NaN   \n",
       "2  Despite September looking like it will break o...   \n",
       "3  Amazon is dangling a $50 tablet computer in it...   \n",
       "4  Earth's record-breaking heat is sounding an aw...   \n",
       "\n",
       "  feed_targeting.reach_estimate                               id  \\\n",
       "0                           NaN  114431401958534_940695755998757   \n",
       "1                           NaN  114431401958534_940684872666512   \n",
       "2                           NaN  114431401958534_940684229333243   \n",
       "3                           NaN  114431401958534_940637569337909   \n",
       "4                           NaN  114431401958534_940535546014778   \n",
       "\n",
       "              insights.post_consumptions.description  \\\n",
       "0  Lifetime: The number of clicks anywhere in you...   \n",
       "1  Lifetime: The number of clicks anywhere in you...   \n",
       "2  Lifetime: The number of clicks anywhere in you...   \n",
       "3  Lifetime: The number of clicks anywhere in you...   \n",
       "4  Lifetime: The number of clicks anywhere in you...   \n",
       "\n",
       "                       insights.post_consumptions.id  \\\n",
       "0  114431401958534_940695755998757/insights/post_...   \n",
       "1  114431401958534_940684872666512/insights/post_...   \n",
       "2  114431401958534_940684229333243/insights/post_...   \n",
       "3  114431401958534_940637569337909/insights/post_...   \n",
       "4  114431401958534_940535546014778/insights/post_...   \n",
       "\n",
       "  insights.post_consumptions.name insights.post_consumptions.period  \\\n",
       "0               post_consumptions                          lifetime   \n",
       "1               post_consumptions                          lifetime   \n",
       "2               post_consumptions                          lifetime   \n",
       "3               post_consumptions                          lifetime   \n",
       "4               post_consumptions                          lifetime   \n",
       "\n",
       "  insights.post_consumptions.title  ... insights.post_video_views_unique.name  \\\n",
       "0       Lifetime Post Consumptions  ...               post_video_views_unique   \n",
       "1       Lifetime Post Consumptions  ...                                   NaN   \n",
       "2       Lifetime Post Consumptions  ...               post_video_views_unique   \n",
       "3       Lifetime Post Consumptions  ...               post_video_views_unique   \n",
       "4       Lifetime Post Consumptions  ...               post_video_views_unique   \n",
       "\n",
       "  insights.post_video_views_unique.period  \\\n",
       "0                                lifetime   \n",
       "1                                     NaN   \n",
       "2                                lifetime   \n",
       "3                                lifetime   \n",
       "4                                lifetime   \n",
       "\n",
       "  insights.post_video_views_unique.title  \\\n",
       "0            Lifetime Unique Video Views   \n",
       "1                                    NaN   \n",
       "2            Lifetime Unique Video Views   \n",
       "3            Lifetime Unique Video Views   \n",
       "4            Lifetime Unique Video Views   \n",
       "\n",
       "  insights.post_video_views_unique.values  \\\n",
       "0                          [{'value': 0}]   \n",
       "1                                     NaN   \n",
       "2                          [{'value': 0}]   \n",
       "3                          [{'value': 0}]   \n",
       "4                          [{'value': 0}]   \n",
       "\n",
       "                                                link  \\\n",
       "0  http://www.komonews.com/news/national/Students...   \n",
       "1  https://www.facebook.com/KOMONews/photos/a.121...   \n",
       "2  http://www.komonews.com/weather/blogs/scott/Ne...   \n",
       "3  http://www.komonews.com/news/tech/Amazon-dangl...   \n",
       "4  http://www.komonews.com/news/national/Earths-r...   \n",
       "\n",
       "                                        link_to_post  \\\n",
       "0  http://facebook.com/114431401958534_9406957559...   \n",
       "1  http://facebook.com/114431401958534_9406848726...   \n",
       "2  http://facebook.com/114431401958534_9406842293...   \n",
       "3  http://facebook.com/114431401958534_9406375693...   \n",
       "4  http://facebook.com/114431401958534_9405355460...   \n",
       "\n",
       "                                             message  \\\n",
       "0  Do you think the Confederate flag should be ba...   \n",
       "1  Seattle Seahawks' Russell Wilson answered lots...   \n",
       "2  It'll be a bummer for snow lovers, but warm-we...   \n",
       "3      What do you think of Amazon's cheaper tablet?   \n",
       "4  Meteorologists say 2015 is a near certainty to...   \n",
       "\n",
       "                                                name  \\\n",
       "0  Students suspended for clothing displaying Con...   \n",
       "1                                    Timeline Photos   \n",
       "2  New forecasts still say mild winter, hot summe...   \n",
       "3  Amazon dangles $50 tablet computer to hook mor...   \n",
       "4  Earth's record streak of record heat keeps on ...   \n",
       "\n",
       "                                             picture story  \n",
       "0  https://external.xx.fbcdn.net/safe_image.php?d...   NaN  \n",
       "1  https://fbcdn-photos-b-a.akamaihd.net/hphotos-...   NaN  \n",
       "2  https://external.xx.fbcdn.net/safe_image.php?d...   NaN  \n",
       "3  https://fbexternal-a.akamaihd.net/safe_image.p...   NaN  \n",
       "4  https://external.xx.fbcdn.net/safe_image.php?d...   NaN  \n",
       "\n",
       "[5 rows x 359 columns]"
      ]
     },
     "metadata": {},
     "output_type": "display_data"
    },
    {
     "data": {
      "text/plain": [
       "(8639, 359)"
      ]
     },
     "metadata": {},
     "output_type": "display_data"
    },
    {
     "name": "stdout",
     "output_type": "stream",
     "text": [
      "CPU times: user 28.4 s, sys: 246 ms, total: 28.6 s\n",
      "Wall time: 28.6 s\n"
     ]
    }
   ],
   "source": [
    "%%time\n",
    "\n",
    "df = json_normalize(data)\n",
    "\n",
    "display(df.head())\n",
    "display(df.shape)"
   ]
  },
  {
   "cell_type": "code",
   "execution_count": 4,
   "metadata": {},
   "outputs": [],
   "source": [
    "insights = df[[col for col in df if col.startswith('insights')]]"
   ]
  },
  {
   "cell_type": "code",
   "execution_count": 5,
   "metadata": {},
   "outputs": [
    {
     "data": {
      "text/html": [
       "<div>\n",
       "<style scoped>\n",
       "    .dataframe tbody tr th:only-of-type {\n",
       "        vertical-align: middle;\n",
       "    }\n",
       "\n",
       "    .dataframe tbody tr th {\n",
       "        vertical-align: top;\n",
       "    }\n",
       "\n",
       "    .dataframe thead th {\n",
       "        text-align: right;\n",
       "    }\n",
       "</style>\n",
       "<table border=\"1\" class=\"dataframe\">\n",
       "  <thead>\n",
       "    <tr style=\"text-align: right;\">\n",
       "      <th></th>\n",
       "      <th>Null %</th>\n",
       "    </tr>\n",
       "  </thead>\n",
       "  <tbody>\n",
       "    <tr>\n",
       "      <th>insights.post_video_complete_views_30s_clicked_to_play.id</th>\n",
       "      <td>0.283945</td>\n",
       "    </tr>\n",
       "    <tr>\n",
       "      <th>caption</th>\n",
       "      <td>0.384883</td>\n",
       "    </tr>\n",
       "    <tr>\n",
       "      <th>description</th>\n",
       "      <td>0.470656</td>\n",
       "    </tr>\n",
       "    <tr>\n",
       "      <th>story</th>\n",
       "      <td>0.935641</td>\n",
       "    </tr>\n",
       "    <tr>\n",
       "      <th>feed_targeting.reach_estimate</th>\n",
       "      <td>0.996759</td>\n",
       "    </tr>\n",
       "  </tbody>\n",
       "</table>\n",
       "</div>"
      ],
      "text/plain": [
       "                                                      Null %\n",
       "insights.post_video_complete_views_30s_clicked_...  0.283945\n",
       "caption                                             0.384883\n",
       "description                                         0.470656\n",
       "story                                               0.935641\n",
       "feed_targeting.reach_estimate                       0.996759"
      ]
     },
     "execution_count": 5,
     "metadata": {},
     "output_type": "execute_result"
    }
   ],
   "source": [
    "pd.DataFrame((df.isna().sum()/df.shape[0]).sort_values(), columns=['Null %']).tail()"
   ]
  },
  {
   "cell_type": "code",
   "execution_count": 6,
   "metadata": {},
   "outputs": [],
   "source": [
    "def check_value(x):\n",
    "    if type(x) == list:\n",
    "        return x[0]['value']\n",
    "    else:\n",
    "        return x"
   ]
  },
  {
   "cell_type": "code",
   "execution_count": 7,
   "metadata": {},
   "outputs": [
    {
     "data": {
      "text/html": [
       "<div>\n",
       "<style scoped>\n",
       "    .dataframe tbody tr th:only-of-type {\n",
       "        vertical-align: middle;\n",
       "    }\n",
       "\n",
       "    .dataframe tbody tr th {\n",
       "        vertical-align: top;\n",
       "    }\n",
       "\n",
       "    .dataframe thead th {\n",
       "        text-align: right;\n",
       "    }\n",
       "</style>\n",
       "<table border=\"1\" class=\"dataframe\">\n",
       "  <thead>\n",
       "    <tr style=\"text-align: right;\">\n",
       "      <th></th>\n",
       "      <th>insights.post_consumptions.values</th>\n",
       "      <th>insights.post_consumptions_by_type.values</th>\n",
       "      <th>insights.post_consumptions_by_type_unique.values</th>\n",
       "      <th>insights.post_consumptions_unique.values</th>\n",
       "      <th>insights.post_engaged_fan.values</th>\n",
       "      <th>insights.post_engaged_users.values</th>\n",
       "      <th>insights.post_fan_reach.values</th>\n",
       "      <th>insights.post_impressions.values</th>\n",
       "      <th>insights.post_impressions_by_paid_non_paid.values</th>\n",
       "      <th>insights.post_impressions_by_paid_non_paid_unique.values</th>\n",
       "      <th>...</th>\n",
       "      <th>insights.post_video_retention_graph_autoplayed.values</th>\n",
       "      <th>insights.post_video_retention_graph_clicked_to_play.values</th>\n",
       "      <th>insights.post_video_views.values</th>\n",
       "      <th>insights.post_video_views_autoplayed.values</th>\n",
       "      <th>insights.post_video_views_clicked_to_play.values</th>\n",
       "      <th>insights.post_video_views_organic.values</th>\n",
       "      <th>insights.post_video_views_organic_unique.values</th>\n",
       "      <th>insights.post_video_views_paid.values</th>\n",
       "      <th>insights.post_video_views_paid_unique.values</th>\n",
       "      <th>insights.post_video_views_unique.values</th>\n",
       "    </tr>\n",
       "  </thead>\n",
       "  <tbody>\n",
       "    <tr>\n",
       "      <th>0</th>\n",
       "      <td>[{'value': 170}]</td>\n",
       "      <td>[{'value': {'other clicks': 151, 'link clicks'...</td>\n",
       "      <td>[{'value': {'other clicks': 91, 'link clicks':...</td>\n",
       "      <td>[{'value': 107}]</td>\n",
       "      <td>[{'value': 117}]</td>\n",
       "      <td>[{'value': 117}]</td>\n",
       "      <td>[{'value': 3566}]</td>\n",
       "      <td>[{'value': 4072}]</td>\n",
       "      <td>[{'value': {'paid': 0, 'total': 4072, 'unpaid'...</td>\n",
       "      <td>[{'value': {'paid': 0, 'total': 3583, 'unpaid'...</td>\n",
       "      <td>...</td>\n",
       "      <td>[{'value': {}}]</td>\n",
       "      <td>[{'value': {}}]</td>\n",
       "      <td>[{'value': 0}]</td>\n",
       "      <td>[{'value': 0}]</td>\n",
       "      <td>[{'value': 0}]</td>\n",
       "      <td>[{'value': 0}]</td>\n",
       "      <td>[{'value': 0}]</td>\n",
       "      <td>[{'value': 0}]</td>\n",
       "      <td>[{'value': 0}]</td>\n",
       "      <td>[{'value': 0}]</td>\n",
       "    </tr>\n",
       "    <tr>\n",
       "      <th>1</th>\n",
       "      <td>[{'value': 88}]</td>\n",
       "      <td>[{'value': {'other clicks': 61, 'link clicks':...</td>\n",
       "      <td>[{'value': {'other clicks': 49, 'link clicks':...</td>\n",
       "      <td>[{'value': 65}]</td>\n",
       "      <td>[{'value': 76}]</td>\n",
       "      <td>[{'value': 77}]</td>\n",
       "      <td>[{'value': 3560}]</td>\n",
       "      <td>[{'value': 5297}]</td>\n",
       "      <td>[{'value': {'paid': 0, 'total': 5297, 'unpaid'...</td>\n",
       "      <td>[{'value': {'paid': 0, 'total': 3618, 'unpaid'...</td>\n",
       "      <td>...</td>\n",
       "      <td>NaN</td>\n",
       "      <td>NaN</td>\n",
       "      <td>NaN</td>\n",
       "      <td>NaN</td>\n",
       "      <td>NaN</td>\n",
       "      <td>NaN</td>\n",
       "      <td>NaN</td>\n",
       "      <td>NaN</td>\n",
       "      <td>NaN</td>\n",
       "      <td>NaN</td>\n",
       "    </tr>\n",
       "    <tr>\n",
       "      <th>2</th>\n",
       "      <td>[{'value': 2169}]</td>\n",
       "      <td>[{'value': {'other clicks': 1162, 'link clicks...</td>\n",
       "      <td>[{'value': {'other clicks': 847, 'link clicks'...</td>\n",
       "      <td>[{'value': 1688}]</td>\n",
       "      <td>[{'value': 1799}]</td>\n",
       "      <td>[{'value': 2001}]</td>\n",
       "      <td>[{'value': 37757}]</td>\n",
       "      <td>[{'value': 65538}]</td>\n",
       "      <td>[{'value': {'paid': 0, 'total': 65538, 'unpaid...</td>\n",
       "      <td>[{'value': {'paid': 0, 'total': 43336, 'unpaid...</td>\n",
       "      <td>...</td>\n",
       "      <td>[{'value': {}}]</td>\n",
       "      <td>[{'value': {}}]</td>\n",
       "      <td>[{'value': 0}]</td>\n",
       "      <td>[{'value': 0}]</td>\n",
       "      <td>[{'value': 0}]</td>\n",
       "      <td>[{'value': 0}]</td>\n",
       "      <td>[{'value': 0}]</td>\n",
       "      <td>[{'value': 0}]</td>\n",
       "      <td>[{'value': 0}]</td>\n",
       "      <td>[{'value': 0}]</td>\n",
       "    </tr>\n",
       "    <tr>\n",
       "      <th>3</th>\n",
       "      <td>[{'value': 238}]</td>\n",
       "      <td>[{'value': {'other clicks': 95, 'link clicks':...</td>\n",
       "      <td>[{'value': {'other clicks': 84, 'link clicks':...</td>\n",
       "      <td>[{'value': 197}]</td>\n",
       "      <td>[{'value': 209}]</td>\n",
       "      <td>[{'value': 212}]</td>\n",
       "      <td>[{'value': 6036}]</td>\n",
       "      <td>[{'value': 9226}]</td>\n",
       "      <td>[{'value': {'paid': 0, 'total': 9226, 'unpaid'...</td>\n",
       "      <td>[{'value': {'paid': 0, 'total': 6263, 'unpaid'...</td>\n",
       "      <td>...</td>\n",
       "      <td>[{'value': {}}]</td>\n",
       "      <td>[{'value': {}}]</td>\n",
       "      <td>[{'value': 0}]</td>\n",
       "      <td>[{'value': 0}]</td>\n",
       "      <td>[{'value': 0}]</td>\n",
       "      <td>[{'value': 0}]</td>\n",
       "      <td>[{'value': 0}]</td>\n",
       "      <td>[{'value': 0}]</td>\n",
       "      <td>[{'value': 0}]</td>\n",
       "      <td>[{'value': 0}]</td>\n",
       "    </tr>\n",
       "    <tr>\n",
       "      <th>4</th>\n",
       "      <td>[{'value': 362}]</td>\n",
       "      <td>[{'value': {'other clicks': 241, 'link clicks'...</td>\n",
       "      <td>[{'value': {'other clicks': 161, 'link clicks'...</td>\n",
       "      <td>[{'value': 255}]</td>\n",
       "      <td>[{'value': 306}]</td>\n",
       "      <td>[{'value': 314}]</td>\n",
       "      <td>[{'value': 19474}]</td>\n",
       "      <td>[{'value': 32136}]</td>\n",
       "      <td>[{'value': {'paid': 0, 'total': 32136, 'unpaid...</td>\n",
       "      <td>[{'value': {'paid': 0, 'total': 20364, 'unpaid...</td>\n",
       "      <td>...</td>\n",
       "      <td>[{'value': {}}]</td>\n",
       "      <td>[{'value': {}}]</td>\n",
       "      <td>[{'value': 0}]</td>\n",
       "      <td>[{'value': 0}]</td>\n",
       "      <td>[{'value': 0}]</td>\n",
       "      <td>[{'value': 0}]</td>\n",
       "      <td>[{'value': 0}]</td>\n",
       "      <td>[{'value': 0}]</td>\n",
       "      <td>[{'value': 0}]</td>\n",
       "      <td>[{'value': 0}]</td>\n",
       "    </tr>\n",
       "  </tbody>\n",
       "</table>\n",
       "<p>5 rows × 58 columns</p>\n",
       "</div>"
      ],
      "text/plain": [
       "  insights.post_consumptions.values  \\\n",
       "0                  [{'value': 170}]   \n",
       "1                   [{'value': 88}]   \n",
       "2                 [{'value': 2169}]   \n",
       "3                  [{'value': 238}]   \n",
       "4                  [{'value': 362}]   \n",
       "\n",
       "           insights.post_consumptions_by_type.values  \\\n",
       "0  [{'value': {'other clicks': 151, 'link clicks'...   \n",
       "1  [{'value': {'other clicks': 61, 'link clicks':...   \n",
       "2  [{'value': {'other clicks': 1162, 'link clicks...   \n",
       "3  [{'value': {'other clicks': 95, 'link clicks':...   \n",
       "4  [{'value': {'other clicks': 241, 'link clicks'...   \n",
       "\n",
       "    insights.post_consumptions_by_type_unique.values  \\\n",
       "0  [{'value': {'other clicks': 91, 'link clicks':...   \n",
       "1  [{'value': {'other clicks': 49, 'link clicks':...   \n",
       "2  [{'value': {'other clicks': 847, 'link clicks'...   \n",
       "3  [{'value': {'other clicks': 84, 'link clicks':...   \n",
       "4  [{'value': {'other clicks': 161, 'link clicks'...   \n",
       "\n",
       "  insights.post_consumptions_unique.values insights.post_engaged_fan.values  \\\n",
       "0                         [{'value': 107}]                 [{'value': 117}]   \n",
       "1                          [{'value': 65}]                  [{'value': 76}]   \n",
       "2                        [{'value': 1688}]                [{'value': 1799}]   \n",
       "3                         [{'value': 197}]                 [{'value': 209}]   \n",
       "4                         [{'value': 255}]                 [{'value': 306}]   \n",
       "\n",
       "  insights.post_engaged_users.values insights.post_fan_reach.values  \\\n",
       "0                   [{'value': 117}]              [{'value': 3566}]   \n",
       "1                    [{'value': 77}]              [{'value': 3560}]   \n",
       "2                  [{'value': 2001}]             [{'value': 37757}]   \n",
       "3                   [{'value': 212}]              [{'value': 6036}]   \n",
       "4                   [{'value': 314}]             [{'value': 19474}]   \n",
       "\n",
       "  insights.post_impressions.values  \\\n",
       "0                [{'value': 4072}]   \n",
       "1                [{'value': 5297}]   \n",
       "2               [{'value': 65538}]   \n",
       "3                [{'value': 9226}]   \n",
       "4               [{'value': 32136}]   \n",
       "\n",
       "   insights.post_impressions_by_paid_non_paid.values  \\\n",
       "0  [{'value': {'paid': 0, 'total': 4072, 'unpaid'...   \n",
       "1  [{'value': {'paid': 0, 'total': 5297, 'unpaid'...   \n",
       "2  [{'value': {'paid': 0, 'total': 65538, 'unpaid...   \n",
       "3  [{'value': {'paid': 0, 'total': 9226, 'unpaid'...   \n",
       "4  [{'value': {'paid': 0, 'total': 32136, 'unpaid...   \n",
       "\n",
       "  insights.post_impressions_by_paid_non_paid_unique.values  ...  \\\n",
       "0  [{'value': {'paid': 0, 'total': 3583, 'unpaid'...        ...   \n",
       "1  [{'value': {'paid': 0, 'total': 3618, 'unpaid'...        ...   \n",
       "2  [{'value': {'paid': 0, 'total': 43336, 'unpaid...        ...   \n",
       "3  [{'value': {'paid': 0, 'total': 6263, 'unpaid'...        ...   \n",
       "4  [{'value': {'paid': 0, 'total': 20364, 'unpaid...        ...   \n",
       "\n",
       "  insights.post_video_retention_graph_autoplayed.values  \\\n",
       "0                                    [{'value': {}}]      \n",
       "1                                                NaN      \n",
       "2                                    [{'value': {}}]      \n",
       "3                                    [{'value': {}}]      \n",
       "4                                    [{'value': {}}]      \n",
       "\n",
       "  insights.post_video_retention_graph_clicked_to_play.values  \\\n",
       "0                                    [{'value': {}}]           \n",
       "1                                                NaN           \n",
       "2                                    [{'value': {}}]           \n",
       "3                                    [{'value': {}}]           \n",
       "4                                    [{'value': {}}]           \n",
       "\n",
       "  insights.post_video_views.values  \\\n",
       "0                   [{'value': 0}]   \n",
       "1                              NaN   \n",
       "2                   [{'value': 0}]   \n",
       "3                   [{'value': 0}]   \n",
       "4                   [{'value': 0}]   \n",
       "\n",
       "  insights.post_video_views_autoplayed.values  \\\n",
       "0                              [{'value': 0}]   \n",
       "1                                         NaN   \n",
       "2                              [{'value': 0}]   \n",
       "3                              [{'value': 0}]   \n",
       "4                              [{'value': 0}]   \n",
       "\n",
       "  insights.post_video_views_clicked_to_play.values  \\\n",
       "0                                   [{'value': 0}]   \n",
       "1                                              NaN   \n",
       "2                                   [{'value': 0}]   \n",
       "3                                   [{'value': 0}]   \n",
       "4                                   [{'value': 0}]   \n",
       "\n",
       "  insights.post_video_views_organic.values  \\\n",
       "0                           [{'value': 0}]   \n",
       "1                                      NaN   \n",
       "2                           [{'value': 0}]   \n",
       "3                           [{'value': 0}]   \n",
       "4                           [{'value': 0}]   \n",
       "\n",
       "  insights.post_video_views_organic_unique.values  \\\n",
       "0                                  [{'value': 0}]   \n",
       "1                                             NaN   \n",
       "2                                  [{'value': 0}]   \n",
       "3                                  [{'value': 0}]   \n",
       "4                                  [{'value': 0}]   \n",
       "\n",
       "  insights.post_video_views_paid.values  \\\n",
       "0                        [{'value': 0}]   \n",
       "1                                   NaN   \n",
       "2                        [{'value': 0}]   \n",
       "3                        [{'value': 0}]   \n",
       "4                        [{'value': 0}]   \n",
       "\n",
       "  insights.post_video_views_paid_unique.values  \\\n",
       "0                               [{'value': 0}]   \n",
       "1                                          NaN   \n",
       "2                               [{'value': 0}]   \n",
       "3                               [{'value': 0}]   \n",
       "4                               [{'value': 0}]   \n",
       "\n",
       "  insights.post_video_views_unique.values  \n",
       "0                          [{'value': 0}]  \n",
       "1                                     NaN  \n",
       "2                          [{'value': 0}]  \n",
       "3                          [{'value': 0}]  \n",
       "4                          [{'value': 0}]  \n",
       "\n",
       "[5 rows x 58 columns]"
      ]
     },
     "execution_count": 7,
     "metadata": {},
     "output_type": "execute_result"
    }
   ],
   "source": [
    "it = insights[[col for col in insights.columns if 'values' in col]]\n",
    "it.head()"
   ]
  },
  {
   "cell_type": "markdown",
   "metadata": {},
   "source": [
    "# Create Consumption dataframe and join to features"
   ]
  },
  {
   "cell_type": "code",
   "execution_count": 8,
   "metadata": {},
   "outputs": [],
   "source": [
    "new = it.applymap(lambda x: check_value(x)).select_dtypes(include=[np.number])\n",
    "\n",
    "# Fill nulls with imputed data\n",
    "new = new.fillna(method='pad')"
   ]
  },
  {
   "cell_type": "code",
   "execution_count": 9,
   "metadata": {},
   "outputs": [
    {
     "data": {
      "text/plain": [
       "count    8.639000e+03\n",
       "mean     7.085215e+03\n",
       "std      5.739073e+04\n",
       "min      0.000000e+00\n",
       "25%      8.610000e+02\n",
       "50%      1.894000e+03\n",
       "75%      4.789000e+03\n",
       "max      3.558055e+06\n",
       "Name: insights.post_consumptions.values, dtype: float64"
      ]
     },
     "execution_count": 9,
     "metadata": {},
     "output_type": "execute_result"
    }
   ],
   "source": [
    "new['insights.post_consumptions.values'].describe()"
   ]
  },
  {
   "cell_type": "markdown",
   "metadata": {},
   "source": [
    "### Standard Deviation is 57,390\n",
    "- Log distribution is normal"
   ]
  },
  {
   "cell_type": "code",
   "execution_count": 10,
   "metadata": {},
   "outputs": [
    {
     "data": {
      "image/png": "[encoded data removed]",
      "text/plain": [
       "<Figure size 432x288 with 1 Axes>"
      ]
     },
     "metadata": {
      "needs_background": "light"
     },
     "output_type": "display_data"
    }
   ],
   "source": [
    "np.log(new['insights.post_consumptions.values']+1).hist()\n",
    "plt.title('Post Consumption')\n",
    "plt.show()"
   ]
  },
  {
   "cell_type": "markdown",
   "metadata": {},
   "source": [
    "## Look at captions\n",
    "- create feature for komonews"
   ]
  },
  {
   "cell_type": "code",
   "execution_count": 11,
   "metadata": {},
   "outputs": [],
   "source": [
    "features =pd.get_dummies(df['caption'].fillna('').str.contains(r'komonews.com'), \n",
    "                         drop_first=True, prefix='komonnews')"
   ]
  },
  {
   "cell_type": "markdown",
   "metadata": {},
   "source": [
    "## Look at story"
   ]
  },
  {
   "cell_type": "code",
   "execution_count": 12,
   "metadata": {},
   "outputs": [],
   "source": [
    "story = df['story'].fillna('').str.lower()\n",
    "\n",
    "for t, s in [(r'updated', 'story_updated'), \n",
    "          (r'added','story_added'), \n",
    "          (r'shared', 'story_shared')]:\n",
    "    \n",
    "    features[s] = pd.get_dummies(story.str.contains(t), \n",
    "                                 prefix=s, \n",
    "                                drop_first=True)\n"
   ]
  },
  {
   "cell_type": "markdown",
   "metadata": {},
   "source": [
    "## Look at message"
   ]
  },
  {
   "cell_type": "code",
   "execution_count": 13,
   "metadata": {},
   "outputs": [],
   "source": [
    "# is_upper = []\n",
    "# for item in df.message.str.split().iteritems():\n",
    "#     if type(item) == list:\n",
    "#         is_upper.append(any([x.islower() for x in item[1]]))\n",
    "#     else:\n",
    "#         is_upper.append(False)\n",
    "\n",
    "# features['is_upper'] = is_upper"
   ]
  },
  {
   "cell_type": "code",
   "execution_count": 14,
   "metadata": {},
   "outputs": [
    {
     "data": {
      "text/plain": [
       "\"Seattle Seahawks' Russell Wilson answered lots of questions about hurry-up offense today. What question do you have for the star QB?\""
      ]
     },
     "execution_count": 14,
     "metadata": {},
     "output_type": "execute_result"
    }
   ],
   "source": [
    "df['message'][1]"
   ]
  },
  {
   "cell_type": "markdown",
   "metadata": {},
   "source": [
    "## Run sentiment analysis"
   ]
  },
  {
   "cell_type": "code",
   "execution_count": 15,
   "metadata": {},
   "outputs": [
    {
     "name": "stdout",
     "output_type": "stream",
     "text": [
      "Sentiment(classification='pos', p_pos=0.6021601076046352, p_neg=0.3978398923953644)\n",
      "CPU times: user 3.8 s, sys: 137 ms, total: 3.94 s\n",
      "Wall time: 3.94 s\n"
     ]
    }
   ],
   "source": [
    "%%time\n",
    "\n",
    "blob = TextBlob(df['message'][0], analyzer=NaiveBayesAnalyzer())\n",
    "print(blob.sentiment)"
   ]
  },
  {
   "cell_type": "markdown",
   "metadata": {},
   "source": [
    "## Look at name"
   ]
  },
  {
   "cell_type": "code",
   "execution_count": 16,
   "metadata": {},
   "outputs": [
    {
     "data": {
      "text/plain": [
       "Text(0.5, 1.0, 'Timeline Photos in post')"
      ]
     },
     "execution_count": 16,
     "metadata": {},
     "output_type": "execute_result"
    },
    {
     "data": {
      "image/png": "[encoded data removed]",
      "text/plain": [
       "<Figure size 432x288 with 1 Axes>"
      ]
     },
     "metadata": {
      "needs_background": "light"
     },
     "output_type": "display_data"
    }
   ],
   "source": [
    "sns.countplot(df['name'].str.contains('Timeline Photos'))\n",
    "plt.title('Timeline Photos in post')"
   ]
  },
  {
   "cell_type": "code",
   "execution_count": 17,
   "metadata": {},
   "outputs": [],
   "source": [
    "features['name_timeline_photos'] = pd.get_dummies(\n",
    "    df['name'].str.contains('Timeline Photos'), \n",
    "prefix='timeline_photos',\n",
    "drop_first=True)"
   ]
  },
  {
   "cell_type": "markdown",
   "metadata": {},
   "source": [
    "## Look at descriptions"
   ]
  },
  {
   "cell_type": "code",
   "execution_count": 18,
   "metadata": {},
   "outputs": [],
   "source": [
    "df['description_parsed'] = df['description'].fillna('').str.lower()"
   ]
  },
  {
   "cell_type": "markdown",
   "metadata": {},
   "source": [
    "## Analyze Polarity and subjectivity"
   ]
  },
  {
   "cell_type": "code",
   "execution_count": 19,
   "metadata": {},
   "outputs": [
    {
     "data": {
      "text/plain": [
       "Sentiment(polarity=0.0987878787878788, subjectivity=0.3315151515151515)"
      ]
     },
     "execution_count": 19,
     "metadata": {},
     "output_type": "execute_result"
    }
   ],
   "source": [
    "blob = TextBlob(df['description'].fillna('')[0])\n",
    "blob.sentiment"
   ]
  },
  {
   "cell_type": "code",
   "execution_count": 20,
   "metadata": {},
   "outputs": [],
   "source": [
    "df['description'] = df['description'].fillna('')"
   ]
  },
  {
   "cell_type": "code",
   "execution_count": 21,
   "metadata": {},
   "outputs": [],
   "source": [
    "pols = df['description'].apply(lambda x: TextBlob(x).sentiment)"
   ]
  },
  {
   "cell_type": "code",
   "execution_count": 22,
   "metadata": {},
   "outputs": [],
   "source": [
    "features = pd.concat([features, \n",
    " pd.DataFrame([[x[0], x[1]] for x in pols],\n",
    "            columns=['description_polarity',\n",
    "                    'description_subjectivity'])], 1)"
   ]
  },
  {
   "cell_type": "code",
   "execution_count": 23,
   "metadata": {},
   "outputs": [
    {
     "data": {
      "text/plain": [
       "'About 20 western Virginia high school students were suspended Thursday after holding a rally to protest a new policy banning vehicles with Confederate flag symbols from the school parking lot and refusing to take off clothing displaying the symbol.'"
      ]
     },
     "execution_count": 23,
     "metadata": {},
     "output_type": "execute_result"
    }
   ],
   "source": [
    "df['description'].fillna('')[0]"
   ]
  },
  {
   "cell_type": "markdown",
   "metadata": {},
   "source": [
    "## Create features for !, and ?"
   ]
  },
  {
   "cell_type": "code",
   "execution_count": 24,
   "metadata": {},
   "outputs": [],
   "source": [
    "# features['$_True'] = pd.get_dummies(df['description'].fillna('').str.contains(r'\\$'), \n",
    "#               prefix='$', drop_first=True)\n",
    "\n",
    "features['!_True'] = pd.get_dummies(df['description'].fillna('').str.contains(r'\\!'), \n",
    "              prefix='!', drop_first=True)\n",
    "\n",
    "features['?_True'] = pd.get_dummies(df['description'].fillna('').str.contains(r'\\?'), \n",
    "              prefix='?', drop_first=True)"
   ]
  },
  {
   "cell_type": "markdown",
   "metadata": {},
   "source": [
    "## Parse NLP features to be used later"
   ]
  },
  {
   "cell_type": "code",
   "execution_count": 25,
   "metadata": {},
   "outputs": [
    {
     "data": {
      "text/plain": [
       "zoos          14506\n",
       "zoomed        14505\n",
       "zookeepers    14504\n",
       "zookeeper     14503\n",
       "zoo           14502\n",
       "dtype: int64"
      ]
     },
     "execution_count": 25,
     "metadata": {},
     "output_type": "execute_result"
    }
   ],
   "source": [
    "# remove non alphabetic chars except .\n",
    "df['description_parsed'] = df['description'].str.replace(r'[^a-z .]', '')\n",
    "\n",
    "corpus = df['description_parsed'].str.cat().split('.')\n",
    "\n",
    "# Remove stop words\n",
    "vectorizer = CountVectorizer(stop_words='english', analyzer='word')\n",
    "X = vectorizer.fit_transform(corpus)\n",
    "\n",
    "pd.Series(vectorizer.vocabulary_).sort_values(ascending=False).head()"
   ]
  },
  {
   "cell_type": "markdown",
   "metadata": {},
   "source": [
    "## Parse Time and Create time features"
   ]
  },
  {
   "cell_type": "code",
   "execution_count": 26,
   "metadata": {},
   "outputs": [],
   "source": [
    "df['created_time'] = pd.to_datetime(df['created_time'])\n",
    "\n",
    "weekday_name = df['created_time'].dt.weekday_name\n",
    "month = df['created_time'].dt.month_name()"
   ]
  },
  {
   "cell_type": "code",
   "execution_count": 27,
   "metadata": {},
   "outputs": [
    {
     "data": {
      "image/png": "[encoded data removed]",
      "text/plain": [
       "<Figure size 432x288 with 1 Axes>"
      ]
     },
     "metadata": {
      "needs_background": "light"
     },
     "output_type": "display_data"
    }
   ],
   "source": [
    "weekday_name.value_counts().plot.barh()\n",
    "plt.show()"
   ]
  },
  {
   "cell_type": "code",
   "execution_count": 28,
   "metadata": {},
   "outputs": [
    {
     "data": {
      "image/png": "[encoded data removed]",
      "text/plain": [
       "<Figure size 432x288 with 1 Axes>"
      ]
     },
     "metadata": {
      "needs_background": "light"
     },
     "output_type": "display_data"
    }
   ],
   "source": [
    "month.value_counts().plot.barh()\n",
    "plt.show()"
   ]
  },
  {
   "cell_type": "markdown",
   "metadata": {},
   "source": [
    "## March, Friday, and midnight have the most content"
   ]
  },
  {
   "cell_type": "code",
   "execution_count": 29,
   "metadata": {},
   "outputs": [
    {
     "data": {
      "text/html": [
       "<div>\n",
       "<style scoped>\n",
       "    .dataframe tbody tr th:only-of-type {\n",
       "        vertical-align: middle;\n",
       "    }\n",
       "\n",
       "    .dataframe tbody tr th {\n",
       "        vertical-align: top;\n",
       "    }\n",
       "\n",
       "    .dataframe thead th {\n",
       "        text-align: right;\n",
       "    }\n",
       "</style>\n",
       "<table border=\"1\" class=\"dataframe\">\n",
       "  <thead>\n",
       "    <tr style=\"text-align: right;\">\n",
       "      <th></th>\n",
       "      <th>komonnews_True</th>\n",
       "      <th>story_updated</th>\n",
       "      <th>story_added</th>\n",
       "      <th>story_shared</th>\n",
       "      <th>name_timeline_photos</th>\n",
       "      <th>description_polarity</th>\n",
       "      <th>description_subjectivity</th>\n",
       "      <th>!_True</th>\n",
       "      <th>?_True</th>\n",
       "      <th>Friday</th>\n",
       "      <th>...</th>\n",
       "      <th>December</th>\n",
       "      <th>February</th>\n",
       "      <th>January</th>\n",
       "      <th>July</th>\n",
       "      <th>June</th>\n",
       "      <th>March</th>\n",
       "      <th>May</th>\n",
       "      <th>November</th>\n",
       "      <th>October</th>\n",
       "      <th>September</th>\n",
       "    </tr>\n",
       "  </thead>\n",
       "  <tbody>\n",
       "    <tr>\n",
       "      <th>0</th>\n",
       "      <td>1</td>\n",
       "      <td>0</td>\n",
       "      <td>0</td>\n",
       "      <td>0</td>\n",
       "      <td>0</td>\n",
       "      <td>0.098788</td>\n",
       "      <td>0.331515</td>\n",
       "      <td>0</td>\n",
       "      <td>0</td>\n",
       "      <td>0</td>\n",
       "      <td>...</td>\n",
       "      <td>0</td>\n",
       "      <td>0</td>\n",
       "      <td>0</td>\n",
       "      <td>0</td>\n",
       "      <td>0</td>\n",
       "      <td>0</td>\n",
       "      <td>0</td>\n",
       "      <td>0</td>\n",
       "      <td>0</td>\n",
       "      <td>1</td>\n",
       "    </tr>\n",
       "    <tr>\n",
       "      <th>1</th>\n",
       "      <td>0</td>\n",
       "      <td>0</td>\n",
       "      <td>0</td>\n",
       "      <td>0</td>\n",
       "      <td>1</td>\n",
       "      <td>0.000000</td>\n",
       "      <td>0.000000</td>\n",
       "      <td>0</td>\n",
       "      <td>0</td>\n",
       "      <td>0</td>\n",
       "      <td>...</td>\n",
       "      <td>0</td>\n",
       "      <td>0</td>\n",
       "      <td>0</td>\n",
       "      <td>0</td>\n",
       "      <td>0</td>\n",
       "      <td>0</td>\n",
       "      <td>0</td>\n",
       "      <td>0</td>\n",
       "      <td>0</td>\n",
       "      <td>1</td>\n",
       "    </tr>\n",
       "    <tr>\n",
       "      <th>2</th>\n",
       "      <td>1</td>\n",
       "      <td>0</td>\n",
       "      <td>0</td>\n",
       "      <td>0</td>\n",
       "      <td>0</td>\n",
       "      <td>0.100000</td>\n",
       "      <td>0.612500</td>\n",
       "      <td>0</td>\n",
       "      <td>0</td>\n",
       "      <td>0</td>\n",
       "      <td>...</td>\n",
       "      <td>0</td>\n",
       "      <td>0</td>\n",
       "      <td>0</td>\n",
       "      <td>0</td>\n",
       "      <td>0</td>\n",
       "      <td>0</td>\n",
       "      <td>0</td>\n",
       "      <td>0</td>\n",
       "      <td>0</td>\n",
       "      <td>1</td>\n",
       "    </tr>\n",
       "    <tr>\n",
       "      <th>3</th>\n",
       "      <td>1</td>\n",
       "      <td>0</td>\n",
       "      <td>0</td>\n",
       "      <td>0</td>\n",
       "      <td>0</td>\n",
       "      <td>0.093750</td>\n",
       "      <td>0.618750</td>\n",
       "      <td>0</td>\n",
       "      <td>0</td>\n",
       "      <td>0</td>\n",
       "      <td>...</td>\n",
       "      <td>0</td>\n",
       "      <td>0</td>\n",
       "      <td>0</td>\n",
       "      <td>0</td>\n",
       "      <td>0</td>\n",
       "      <td>0</td>\n",
       "      <td>0</td>\n",
       "      <td>0</td>\n",
       "      <td>0</td>\n",
       "      <td>1</td>\n",
       "    </tr>\n",
       "    <tr>\n",
       "      <th>4</th>\n",
       "      <td>1</td>\n",
       "      <td>0</td>\n",
       "      <td>0</td>\n",
       "      <td>0</td>\n",
       "      <td>0</td>\n",
       "      <td>-0.233333</td>\n",
       "      <td>0.330556</td>\n",
       "      <td>0</td>\n",
       "      <td>0</td>\n",
       "      <td>0</td>\n",
       "      <td>...</td>\n",
       "      <td>0</td>\n",
       "      <td>0</td>\n",
       "      <td>0</td>\n",
       "      <td>0</td>\n",
       "      <td>0</td>\n",
       "      <td>0</td>\n",
       "      <td>0</td>\n",
       "      <td>0</td>\n",
       "      <td>0</td>\n",
       "      <td>1</td>\n",
       "    </tr>\n",
       "  </tbody>\n",
       "</table>\n",
       "<p>5 rows × 28 columns</p>\n",
       "</div>"
      ],
      "text/plain": [
       "   komonnews_True  story_updated  story_added  story_shared  \\\n",
       "0               1              0            0             0   \n",
       "1               0              0            0             0   \n",
       "2               1              0            0             0   \n",
       "3               1              0            0             0   \n",
       "4               1              0            0             0   \n",
       "\n",
       "   name_timeline_photos  description_polarity  description_subjectivity  \\\n",
       "0                     0              0.098788                  0.331515   \n",
       "1                     1              0.000000                  0.000000   \n",
       "2                     0              0.100000                  0.612500   \n",
       "3                     0              0.093750                  0.618750   \n",
       "4                     0             -0.233333                  0.330556   \n",
       "\n",
       "   !_True  ?_True  Friday  ...  December  February  January  July  June  \\\n",
       "0       0       0       0  ...         0         0        0     0     0   \n",
       "1       0       0       0  ...         0         0        0     0     0   \n",
       "2       0       0       0  ...         0         0        0     0     0   \n",
       "3       0       0       0  ...         0         0        0     0     0   \n",
       "4       0       0       0  ...         0         0        0     0     0   \n",
       "\n",
       "   March  May  November  October  September  \n",
       "0      0    0         0        0          1  \n",
       "1      0    0         0        0          1  \n",
       "2      0    0         0        0          1  \n",
       "3      0    0         0        0          1  \n",
       "4      0    0         0        0          1  \n",
       "\n",
       "[5 rows x 28 columns]"
      ]
     },
     "execution_count": 29,
     "metadata": {},
     "output_type": "execute_result"
    }
   ],
   "source": [
    "features = pd.concat([features, pd.get_dummies(weekday_name), \n",
    "                      pd.get_dummies(month)], 1)\n",
    "\n",
    "features.head()"
   ]
  },
  {
   "cell_type": "markdown",
   "metadata": {},
   "source": [
    "## Join features with post values"
   ]
  },
  {
   "cell_type": "code",
   "execution_count": 30,
   "metadata": {},
   "outputs": [
    {
     "data": {
      "text/plain": [
       "(8639, 28)"
      ]
     },
     "execution_count": 30,
     "metadata": {},
     "output_type": "execute_result"
    }
   ],
   "source": [
    "# data = pd.concat([features, new], 1, sort=False)\n",
    "\n",
    "data = features\n",
    "data.shape"
   ]
  },
  {
   "cell_type": "markdown",
   "metadata": {},
   "source": [
    "## Develop Random Forest Regression model to predict insights.post_consumptions.values\n",
    "- Random Forest will be a good choice, because we do not have much feature engineering\n"
   ]
  },
  {
   "cell_type": "code",
   "execution_count": 31,
   "metadata": {},
   "outputs": [
    {
     "data": {
      "image/png": "[encoded data removed]",
      "text/plain": [
       "<Figure size 432x288 with 2 Axes>"
      ]
     },
     "metadata": {
      "needs_background": "light"
     },
     "output_type": "display_data"
    }
   ],
   "source": [
    "sns.heatmap(data.corr().abs())\n",
    "plt.show()"
   ]
  },
  {
   "cell_type": "markdown",
   "metadata": {},
   "source": [
    "## Dropping correlated variables actually makes the model worse"
   ]
  },
  {
   "cell_type": "code",
   "execution_count": 33,
   "metadata": {},
   "outputs": [],
   "source": [
    "# # Create correlation matrix\n",
    "# corr_matrix = data.corr().abs()\n",
    "\n",
    "# # Select upper triangle of correlation matrix\n",
    "# upper = corr_matrix.where(np.triu(np.ones(corr_matrix.shape), k=1).astype(np.bool))\n",
    "\n",
    "# # Find index of feature columns with correlation greater than 0.95\n",
    "# to_drop = [column for column in upper.columns if any(upper[column] > 0.95)]\n",
    "\n",
    "# data = data.drop(to_drop, axis=1)"
   ]
  },
  {
   "cell_type": "markdown",
   "metadata": {},
   "source": [
    "## Create training data"
   ]
  },
  {
   "cell_type": "code",
   "execution_count": 34,
   "metadata": {},
   "outputs": [],
   "source": [
    "X = data\n",
    "Y = new['insights.post_consumptions.values']"
   ]
  },
  {
   "cell_type": "code",
   "execution_count": 35,
   "metadata": {},
   "outputs": [],
   "source": [
    "X_train, X_test, y_train, y_test = train_test_split(\n",
    "    X, Y, test_size=0.33, random_state=42)"
   ]
  },
  {
   "cell_type": "markdown",
   "metadata": {},
   "source": [
    "## Fit random Forest Regressor"
   ]
  },
  {
   "cell_type": "code",
   "execution_count": 36,
   "metadata": {},
   "outputs": [
    {
     "name": "stdout",
     "output_type": "stream",
     "text": [
      "CPU times: user 1.7 s, sys: 34.7 ms, total: 1.74 s\n",
      "Wall time: 354 ms\n"
     ]
    }
   ],
   "source": [
    "%%time\n",
    "\n",
    "reg = RandomForestRegressor(n_estimators=100, random_state=0, n_jobs=8).fit(X_train, y_train)"
   ]
  },
  {
   "cell_type": "markdown",
   "metadata": {},
   "source": [
    "## Show 10-fold cross-validation"
   ]
  },
  {
   "cell_type": "code",
   "execution_count": 37,
   "metadata": {},
   "outputs": [
    {
     "name": "stdout",
     "output_type": "stream",
     "text": [
      "CPU times: user 2.34 s, sys: 958 ms, total: 3.3 s\n",
      "Wall time: 7.61 s\n"
     ]
    },
    {
     "data": {
      "text/plain": [
       "array([-0.18724074, -0.01471698, -0.00143619, -0.0012173 , -0.04064457,\n",
       "       -0.13825666, -0.06565801, -0.17585544, -0.02998155, -0.06809313])"
      ]
     },
     "execution_count": 37,
     "metadata": {},
     "output_type": "execute_result"
    }
   ],
   "source": [
    "%%time \n",
    "\n",
    "cross_val_score(reg, X, Y, cv=10)"
   ]
  },
  {
   "cell_type": "markdown",
   "metadata": {},
   "source": [
    "## Cross validation shows consistent R-squared values\n",
    "    So overfitting is not a huge problem for this model"
   ]
  },
  {
   "cell_type": "code",
   "execution_count": 38,
   "metadata": {},
   "outputs": [
    {
     "data": {
      "text/plain": [
       "8581.664393867291"
      ]
     },
     "execution_count": 38,
     "metadata": {},
     "output_type": "execute_result"
    }
   ],
   "source": [
    "y_pred = reg.predict(X)\n",
    "\n",
    "mean_absolute_error(Y, y_pred)"
   ]
  },
  {
   "cell_type": "markdown",
   "metadata": {},
   "source": [
    "# The MAE for this solution is 8582, Standard Deviation is 57,300 video consumptions"
   ]
  },
  {
   "cell_type": "markdown",
   "metadata": {},
   "source": [
    "## TODO with more time\n",
    "- Tune model hyperparameters; grid-search.\n",
    "- Parse actions into appropriate data columns\n",
    "- Utilize NLP features\n",
    "- Do feature engineering and filtering\n",
    "- Develop Classification Model?\n",
    "- test on new data, and evaluate performance"
   ]
  },
  {
   "cell_type": "code",
   "execution_count": null,
   "metadata": {},
   "outputs": [],
   "source": []
  }
 ],
 "metadata": {
  "kernelspec": {
   "display_name": "thinkful-py3",
   "language": "python",
   "name": "thinkful-py3"
  },
  "language_info": {
   "codemirror_mode": {
    "name": "ipython",
    "version": 3
   },
   "file_extension": ".py",
   "mimetype": "text/x-python",
   "name": "python",
   "nbconvert_exporter": "python",
   "pygments_lexer": "ipython3",
   "version": "3.6.5"
  }
 },
 "nbformat": 4,
 "nbformat_minor": 2
}
